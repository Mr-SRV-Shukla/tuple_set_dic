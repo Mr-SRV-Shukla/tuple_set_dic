{
 "cells": [
  {
   "cell_type": "code",
   "execution_count": null,
   "id": "fe318701-c4a3-49a8-9d6b-ea65a97b9c0f",
   "metadata": {},
   "outputs": [],
   "source": [
    "# Q1. What are the characteristics of the tuples? Is tuple immutable?\n",
    "\n",
    "# Ans :  1. A tuple  is inmutable data type in python.\n",
    "#       2. once tuple define can not  be alter or manipulated.\n",
    "    "
   ]
  },
  {
   "cell_type": "code",
   "execution_count": 6,
   "id": "9818ae5a-ad73-4024-928d-26d37d92f93b",
   "metadata": {},
   "outputs": [
    {
     "data": {
      "text/plain": [
       "5"
      ]
     },
     "execution_count": 6,
     "metadata": {},
     "output_type": "execute_result"
    }
   ],
   "source": [
    "# Q2. What are the two tuple methods in python? Give an example of each method. Give a reason why\n",
    "# tuples have only two in-built methods as compared to Lists.\n",
    "\n",
    "# * In python for the tuple we have two method : 1. count() 2. index()\n",
    "tupleExample= (1,2,3,4,2,5,2)\n",
    "\n",
    "tupleExample.count(2) \n",
    "# count method return the number of occurence fron the tuple of items \n",
    "\n",
    "tupleExample.index(5)\n",
    "# index method return the first index of the items, where it is present.\n",
    "\n",
    "#  tuples have only two in-built methods as compared to Lists. because tuple is inmutable data type of python , its can't be manipulated once declaired.s"
   ]
  },
  {
   "cell_type": "code",
   "execution_count": 16,
   "id": "98c2f725-7026-41f1-8091-213857238f1e",
   "metadata": {},
   "outputs": [
    {
     "name": "stdout",
     "output_type": "stream",
     "text": [
      "{1, 2, 3, 4}\n"
     ]
    }
   ],
   "source": [
    "#Q3. Which collection datatypes in python do not allow duplicate items? Write a code using a set to remove\n",
    "#    duplicates from the given list.\n",
    "\n",
    "List = [1, 1, 1, 2, 1, 3, 1, 4, 2, 1, 2, 2, 2, 3, 2, 4, 3, 1, 3, 2, 3, 3, 3, 4, 4, 1, 4, 2, 4, 3, 4, 4]\n",
    "\n",
    "# set data type in python not allow duplicity , it's store only unique value.\n",
    "newSet=set(List)\n",
    "type(newSet)\n",
    "print(newSet)"
   ]
  },
  {
   "cell_type": "code",
   "execution_count": 37,
   "id": "30474e1f-3a1f-4d94-b253-f7ac63a1417d",
   "metadata": {},
   "outputs": [
    {
     "name": "stdout",
     "output_type": "stream",
     "text": [
      "{'microsoft', 'google', 'cherry', 'apple', 'banana'}\n",
      "{'microsoft', 'google', 'cherry', 'apple', 'banana'}\n"
     ]
    }
   ],
   "source": [
    "# Q4. Explain the difference between the union() and update() methods for a set. Give an example of\n",
    "#     each method.\n",
    "\n",
    "x = {\"apple\", \"banana\", \"cherry\"}\n",
    "y = {\"google\", \"microsoft\", \"apple\"}\n",
    "\n",
    "\n",
    "\n",
    "#union() method :- return the new sets from the two or more sets\n",
    "\n",
    "a=x.union(y) \n",
    "print(a)\n",
    "\n",
    "# update() method :-update the existing set with the second set\n",
    "\n",
    "x.update(y)\n",
    "print(x)"
   ]
  },
  {
   "cell_type": "code",
   "execution_count": 38,
   "id": "39f6d116-c48b-415a-9a3e-a703e74a2e35",
   "metadata": {},
   "outputs": [
    {
     "data": {
      "text/plain": [
       "dict"
      ]
     },
     "execution_count": 38,
     "metadata": {},
     "output_type": "execute_result"
    }
   ],
   "source": [
    "#Q5. What is a dictionary? Give an example. Also, state whether a dictionary is ordered or unordered.\n",
    "\n",
    "# Dictionary : dictionary is the collection of the key value pair and it is unordered , indexed , mutable data type,\n",
    "# but can't store the duplicate key.\n",
    "\n",
    "dict1 = {\n",
    "  \"brand\": \"Ford\",\n",
    "  \"model\": \"Mustang\",\n",
    "  \"year\": 1964\n",
    "}\n",
    "type(dict1)"
   ]
  },
  {
   "cell_type": "code",
   "execution_count": 40,
   "id": "646243df-6f50-4881-a281-b69eba358e7e",
   "metadata": {},
   "outputs": [
    {
     "name": "stdout",
     "output_type": "stream",
     "text": [
      "{'Car': {'brand': 'Ford', 'modelName': 'Mustang', 'year': 1964}, 'ownerName': 'sourav Shukla', 'YearOfPerchase': 2022}\n"
     ]
    }
   ],
   "source": [
    "#Q6. Can we create a nested dictionary? If so, please give an example by creating a simple one-level\n",
    "#    nested dictionary.\n",
    "\n",
    "# yes we can create the nested value dictionary but can't be create a nested key dictionary.\n",
    "\n",
    "dict1={\n",
    "    \"Car\": { \"brand\": \"Ford\", \"modelName\":\"Mustang\" ,\"year\":1964},\n",
    "    \"ownerName\": \"sourav Shukla\",\n",
    "    \"YearOfPerchase\": 2022\n",
    "}\n",
    "print(dict1)"
   ]
  },
  {
   "cell_type": "code",
   "execution_count": 48,
   "id": "43fc6d90-bfd3-4d67-a8d1-d9fd967d61a6",
   "metadata": {},
   "outputs": [
    {
     "name": "stdout",
     "output_type": "stream",
     "text": [
      "{'language': 'Python', 'course': 'Data Science Masters', 'needed': ['python', 'machine learning', 'deep learning']}\n"
     ]
    }
   ],
   "source": [
    "# Q7. Using setdefault() method, create key named topics in the given dictionary and also add the value of\n",
    "#    the key as this list ['Python', 'Machine Learning’, 'Deep Learning']\n",
    "#    dict1 = {'language' : 'Python', 'course': 'Data Science Masters'}\n",
    "\n",
    "# setdefault(key, value) method : it's return the value of items with specific key , If the key is not preset then  create \n",
    "#                  new key with none value.\n",
    "  \n",
    "    \n",
    "dict1 = {'language' : 'Python', 'course': 'Data Science Masters'} \\\n",
    "\n",
    "dict1.setdefault(\"needed\",[\"python\", \"machine learning\",\"deep learning\"])\n",
    "print(dict1)\n",
    "                            \n",
    "    "
   ]
  },
  {
   "cell_type": "code",
   "execution_count": 58,
   "id": "ce72c1a9-79db-4af1-b9d3-2e72cbcb931f",
   "metadata": {},
   "outputs": [
    {
     "name": "stdout",
     "output_type": "stream",
     "text": [
      "this is the key dict_keys(['Sport', 'Teams']) avilable on dict1\n",
      "this is the value dict_values(['Cricket', ['India', 'Australia', 'England', 'South Africa', 'Sri Lanka', 'New Zealand']]) avilable on dict1\n",
      "this is the items dict_items([('Sport', 'Cricket'), ('Teams', ['India', 'Australia', 'England', 'South Africa', 'Sri Lanka', 'New Zealand'])]) avilable on dict1\n"
     ]
    }
   ],
   "source": [
    "#Q8. What are the three view objects in dictionaries? Use the three in-built methods in python to display\n",
    "#these three view objects for the given dictionary.\n",
    "#dict1 = {'Sport': 'Cricket' , 'Teams': ['India', 'Australia', 'England', 'South Africa', 'Sri Lanka', 'New Zealand']}\n",
    "\n",
    "dict1 = {'Sport': 'Cricket' , 'Teams': ['India', 'Australia', 'England', 'South Africa', 'Sri Lanka', 'New Zealand']}\n",
    "\n",
    "# the main view object of dict is keys , value, items\n",
    "\n",
    "key=dict1.keys()\n",
    "print(f\"this is the key {key} avilable on dict1\")\n",
    "\n",
    "\n",
    "value=dict1.values()\n",
    "print(f\"this is the value {value} avilable on dict1\")\n",
    "\n",
    "\n",
    "item=dict1.items()\n",
    "print(f\"this is the items {item} avilable on dict1\")\n",
    "\n",
    "\n",
    "\n"
   ]
  }
 ],
 "metadata": {
  "kernelspec": {
   "display_name": "Python 3 (ipykernel)",
   "language": "python",
   "name": "python3"
  },
  "language_info": {
   "codemirror_mode": {
    "name": "ipython",
    "version": 3
   },
   "file_extension": ".py",
   "mimetype": "text/x-python",
   "name": "python",
   "nbconvert_exporter": "python",
   "pygments_lexer": "ipython3",
   "version": "3.10.8"
  }
 },
 "nbformat": 4,
 "nbformat_minor": 5
}
